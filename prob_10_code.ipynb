{
 "cells": [
  {
   "attachments": {},
   "cell_type": "markdown",
   "metadata": {},
   "source": [
    "数据准备"
   ]
  },
  {
   "cell_type": "code",
   "execution_count": 3,
   "metadata": {},
   "outputs": [
    {
     "name": "stdout",
     "output_type": "stream",
     "text": [
      "   200152  200553  200761  200530  200488  200413  200055  200026  200030  \\\n",
      "0    5.26    4.47    1.83    1.77    2.59    1.06    2.37    6.54    2.81   \n",
      "1    5.49    4.50    1.83    1.77    2.58    1.04    2.38    6.55    2.83   \n",
      "2    5.72    4.45    1.84    1.84    2.53    1.06    2.38    6.54    2.82   \n",
      "3    5.43    4.49    1.84    1.83    2.56    1.08    2.38    6.53    2.82   \n",
      "4    5.23    4.49    1.83    1.83    2.55    1.06    2.38    6.53    2.81   \n",
      "\n",
      "   200596  ...  200706  200028  200539  200429  200541  200869  200625  \\\n",
      "0  119.46  ...    3.13   16.96    2.14    5.73    2.68   12.45    4.22   \n",
      "1  118.00  ...    3.13   17.00    2.17    5.75    2.71   12.42    4.22   \n",
      "2  117.51  ...    3.13   16.96    2.16    5.74    2.66   12.33    4.09   \n",
      "3  118.30  ...    3.13   16.95    2.17    5.74    2.67   12.25    4.19   \n",
      "4  118.08  ...    3.22   16.82    2.21    5.74    2.69   12.18    4.16   \n",
      "\n",
      "   201872  200992    600093  \n",
      "0    8.65    2.71  1216.090  \n",
      "1    8.66    2.72  1213.696  \n",
      "2    8.75    2.73  1203.307  \n",
      "3    8.78    2.73  1208.822  \n",
      "4    8.73    2.73  1208.085  \n",
      "\n",
      "[5 rows x 43 columns]\n"
     ]
    }
   ],
   "source": [
    "import pandas as pd\n",
    "import numpy as np\n",
    "df = pd.read_csv(r\"C:\\Users\\Elieen\\Desktop\\prob_10_data.csv\")\n",
    "df = df.drop(columns=[\"tradeDate\"], inplace=False)\n",
    "target = \"600093\" # 深证B指股票代码\n",
    "\n",
    "print(df.head(5)) \n",
    "# 200152,200553,....分别为各成分股的股票代码。\n",
    "\n",
    "X_data = df.drop(columns=[target], inplace=False)\n",
    "y_data = df[target]\n",
    "\n",
    "from sklearn.model_selection import train_test_split\n",
    "X_train, X_test, y_train, y_test = train_test_split(X_data, y_data, test_size=0.3, random_state=42)\n"
   ]
  },
  {
   "attachments": {},
   "cell_type": "markdown",
   "metadata": {},
   "source": [
    "进行Lasso回归，选择变量"
   ]
  },
  {
   "cell_type": "code",
   "execution_count": 4,
   "metadata": {},
   "outputs": [],
   "source": [
    "from sklearn.linear_model import Lasso \n",
    "lasso_regression = Lasso(alpha=0.1)\n",
    "model=lasso_regression.fit(X_train,y_train)"
   ]
  },
  {
   "cell_type": "code",
   "execution_count": 5,
   "metadata": {},
   "outputs": [
    {
     "name": "stdout",
     "output_type": "stream",
     "text": [
      "train 0.9950746802796457\n",
      "test 0.9958682147339668\n"
     ]
    }
   ],
   "source": [
    "# 分别输出在训练集和测试集上的得分\n",
    "print(\"train\", model.score(X_train, y_train))\n",
    "print(\"test\", model.score(X_test, y_test))"
   ]
  },
  {
   "attachments": {},
   "cell_type": "markdown",
   "metadata": {},
   "source": [
    "在测试集上也可以得到99.58%的score，说明我们的模型拟合得不错。接下来可以看一下我们选择出了哪些变量（即哪些变量的系数没有被压缩到0）"
   ]
  },
  {
   "cell_type": "code",
   "execution_count": 6,
   "metadata": {},
   "outputs": [
    {
     "data": {
      "text/plain": [
       "array([ 1.85162959,  0.        ,  0.        ,  0.        ,  0.        ,\n",
       "        0.        ,  0.        ,  0.        ,  0.        ,  2.47512964,\n",
       "       13.92530638,  0.        ,  0.        ,  0.        ,  0.        ,\n",
       "        0.        ,  0.        ,  0.        ,  0.        ,  0.        ,\n",
       "        0.        ,  3.02934564,  0.        ,  0.        ,  0.        ,\n",
       "        0.        ,  0.        ,  0.        ,  0.        ,  0.        ,\n",
       "        0.        , 12.5928487 ,  0.        ,  0.        ,  4.60730321,\n",
       "        0.        ,  0.        ,  0.        ,  9.26195889, 29.02014484,\n",
       "        0.        ,  0.        ])"
      ]
     },
     "execution_count": 6,
     "metadata": {},
     "output_type": "execute_result"
    }
   ],
   "source": [
    "model.coef_"
   ]
  },
  {
   "cell_type": "code",
   "execution_count": 7,
   "metadata": {},
   "outputs": [
    {
     "name": "stdout",
     "output_type": "stream",
     "text": [
      "[1, 10, 11, 22, 32, 35, 39, 40]\n"
     ]
    }
   ],
   "source": [
    "idx=[i+1 for i,x in enumerate(model.coef_) if x > 0 ]\n",
    "print(idx)"
   ]
  },
  {
   "cell_type": "code",
   "execution_count": 8,
   "metadata": {},
   "outputs": [
    {
     "data": {
      "text/html": [
       "<div>\n",
       "<style scoped>\n",
       "    .dataframe tbody tr th:only-of-type {\n",
       "        vertical-align: middle;\n",
       "    }\n",
       "\n",
       "    .dataframe tbody tr th {\n",
       "        vertical-align: top;\n",
       "    }\n",
       "\n",
       "    .dataframe thead th {\n",
       "        text-align: right;\n",
       "    }\n",
       "</style>\n",
       "<table border=\"1\" class=\"dataframe\">\n",
       "  <thead>\n",
       "    <tr style=\"text-align: right;\">\n",
       "      <th></th>\n",
       "      <th>predict</th>\n",
       "      <th>true_value</th>\n",
       "    </tr>\n",
       "  </thead>\n",
       "  <tbody>\n",
       "    <tr>\n",
       "      <th>0</th>\n",
       "      <td>1133.061789</td>\n",
       "      <td>1135.638</td>\n",
       "    </tr>\n",
       "    <tr>\n",
       "      <th>1</th>\n",
       "      <td>1218.175902</td>\n",
       "      <td>1216.090</td>\n",
       "    </tr>\n",
       "    <tr>\n",
       "      <th>2</th>\n",
       "      <td>1123.071189</td>\n",
       "      <td>1119.063</td>\n",
       "    </tr>\n",
       "    <tr>\n",
       "      <th>3</th>\n",
       "      <td>1103.328250</td>\n",
       "      <td>1102.157</td>\n",
       "    </tr>\n",
       "    <tr>\n",
       "      <th>4</th>\n",
       "      <td>1152.855212</td>\n",
       "      <td>1147.695</td>\n",
       "    </tr>\n",
       "    <tr>\n",
       "      <th>5</th>\n",
       "      <td>1128.741802</td>\n",
       "      <td>1130.036</td>\n",
       "    </tr>\n",
       "    <tr>\n",
       "      <th>6</th>\n",
       "      <td>1188.121211</td>\n",
       "      <td>1185.467</td>\n",
       "    </tr>\n",
       "    <tr>\n",
       "      <th>7</th>\n",
       "      <td>1161.477620</td>\n",
       "      <td>1161.723</td>\n",
       "    </tr>\n",
       "    <tr>\n",
       "      <th>8</th>\n",
       "      <td>1208.253616</td>\n",
       "      <td>1208.085</td>\n",
       "    </tr>\n",
       "    <tr>\n",
       "      <th>9</th>\n",
       "      <td>1184.623084</td>\n",
       "      <td>1188.684</td>\n",
       "    </tr>\n",
       "    <tr>\n",
       "      <th>10</th>\n",
       "      <td>1129.243555</td>\n",
       "      <td>1129.468</td>\n",
       "    </tr>\n",
       "    <tr>\n",
       "      <th>11</th>\n",
       "      <td>1102.637248</td>\n",
       "      <td>1102.727</td>\n",
       "    </tr>\n",
       "    <tr>\n",
       "      <th>12</th>\n",
       "      <td>1157.956196</td>\n",
       "      <td>1158.905</td>\n",
       "    </tr>\n",
       "    <tr>\n",
       "      <th>13</th>\n",
       "      <td>1077.368280</td>\n",
       "      <td>1072.365</td>\n",
       "    </tr>\n",
       "    <tr>\n",
       "      <th>14</th>\n",
       "      <td>1160.421770</td>\n",
       "      <td>1161.908</td>\n",
       "    </tr>\n",
       "    <tr>\n",
       "      <th>15</th>\n",
       "      <td>1125.043965</td>\n",
       "      <td>1126.713</td>\n",
       "    </tr>\n",
       "    <tr>\n",
       "      <th>16</th>\n",
       "      <td>1145.835033</td>\n",
       "      <td>1144.861</td>\n",
       "    </tr>\n",
       "    <tr>\n",
       "      <th>17</th>\n",
       "      <td>1165.253307</td>\n",
       "      <td>1165.469</td>\n",
       "    </tr>\n",
       "    <tr>\n",
       "      <th>18</th>\n",
       "      <td>1119.357022</td>\n",
       "      <td>1120.824</td>\n",
       "    </tr>\n",
       "    <tr>\n",
       "      <th>19</th>\n",
       "      <td>1101.378369</td>\n",
       "      <td>1102.179</td>\n",
       "    </tr>\n",
       "    <tr>\n",
       "      <th>20</th>\n",
       "      <td>1198.808625</td>\n",
       "      <td>1200.846</td>\n",
       "    </tr>\n",
       "    <tr>\n",
       "      <th>21</th>\n",
       "      <td>1153.885817</td>\n",
       "      <td>1153.616</td>\n",
       "    </tr>\n",
       "    <tr>\n",
       "      <th>22</th>\n",
       "      <td>1211.550426</td>\n",
       "      <td>1209.204</td>\n",
       "    </tr>\n",
       "    <tr>\n",
       "      <th>23</th>\n",
       "      <td>1134.710418</td>\n",
       "      <td>1138.063</td>\n",
       "    </tr>\n",
       "    <tr>\n",
       "      <th>24</th>\n",
       "      <td>1104.168439</td>\n",
       "      <td>1100.710</td>\n",
       "    </tr>\n",
       "  </tbody>\n",
       "</table>\n",
       "</div>"
      ],
      "text/plain": [
       "        predict  true_value\n",
       "0   1133.061789    1135.638\n",
       "1   1218.175902    1216.090\n",
       "2   1123.071189    1119.063\n",
       "3   1103.328250    1102.157\n",
       "4   1152.855212    1147.695\n",
       "5   1128.741802    1130.036\n",
       "6   1188.121211    1185.467\n",
       "7   1161.477620    1161.723\n",
       "8   1208.253616    1208.085\n",
       "9   1184.623084    1188.684\n",
       "10  1129.243555    1129.468\n",
       "11  1102.637248    1102.727\n",
       "12  1157.956196    1158.905\n",
       "13  1077.368280    1072.365\n",
       "14  1160.421770    1161.908\n",
       "15  1125.043965    1126.713\n",
       "16  1145.835033    1144.861\n",
       "17  1165.253307    1165.469\n",
       "18  1119.357022    1120.824\n",
       "19  1101.378369    1102.179\n",
       "20  1198.808625    1200.846\n",
       "21  1153.885817    1153.616\n",
       "22  1211.550426    1209.204\n",
       "23  1134.710418    1138.063\n",
       "24  1104.168439    1100.710"
      ]
     },
     "execution_count": 8,
     "metadata": {},
     "output_type": "execute_result"
    }
   ],
   "source": [
    "# 对比一下test上的预测值和真实值，还是很相近的\n",
    "pd.concat([pd.DataFrame({\"predict\":model.predict(X_test)}),pd.DataFrame({\"true_value\":np.array(y_test)})],axis=1)\n"
   ]
  },
  {
   "cell_type": "code",
   "execution_count": null,
   "metadata": {},
   "outputs": [],
   "source": []
  }
 ],
 "metadata": {
  "kernelspec": {
   "display_name": "Python 3.9.12 ('base')",
   "language": "python",
   "name": "python3"
  },
  "language_info": {
   "codemirror_mode": {
    "name": "ipython",
    "version": 3
   },
   "file_extension": ".py",
   "mimetype": "text/x-python",
   "name": "python",
   "nbconvert_exporter": "python",
   "pygments_lexer": "ipython3",
   "version": "3.9.12 (main, Apr  4 2022, 05:22:27) [MSC v.1916 64 bit (AMD64)]"
  },
  "orig_nbformat": 4,
  "vscode": {
   "interpreter": {
    "hash": "c4652c855cd38e6913e0443c590e4dea25e4e780c61069c577fa2bfe4362af58"
   }
  }
 },
 "nbformat": 4,
 "nbformat_minor": 2
}
